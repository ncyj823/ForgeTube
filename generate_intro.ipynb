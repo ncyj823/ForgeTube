{
  "nbformat": 4,
  "nbformat_minor": 0,
  "metadata": {
    "colab": {
      "provenance": [],
      "authorship_tag": "ABX9TyNpITlFZlhcRJBwi6kmPHTq",
      "include_colab_link": true
    },
    "kernelspec": {
      "name": "python3",
      "display_name": "Python 3"
    },
    "language_info": {
      "name": "python"
    }
  },
  "cells": [
    {
      "cell_type": "markdown",
      "metadata": {
        "id": "view-in-github",
        "colab_type": "text"
      },
      "source": [
        "<a href=\"https://colab.research.google.com/github/ncyj823/ForgeTube/blob/main/generate_intro.ipynb\" target=\"_parent\"><img src=\"https://colab.research.google.com/assets/colab-badge.svg\" alt=\"Open In Colab\"/></a>"
      ]
    },
    {
      "cell_type": "code",
      "source": [
        "import os\n",
        "os.environ[\"IMAGEMAGICK_BINARY\"] = r\"C:\\Program Files\\ImageMagick-7.x.x-Q16\\convert.exe\"  # Windows (replace with your path)\n",
        "# OR\n",
        "os.environ[\"IMAGEMAGICK_BINARY\"] = \"/usr/bin/convert\"  # Linux/macOS (adjust path if needed)\n",
        "import moviepy.editor as mpe  # Import AFTER setting the variable\n"
      ],
      "metadata": {
        "id": "uVJvWmxi88Vl"
      },
      "execution_count": 4,
      "outputs": []
    },
    {
      "cell_type": "code",
      "source": [
        "!apt-get update\n",
        "!apt-get install imagemagick"
      ],
      "metadata": {
        "colab": {
          "base_uri": "https://localhost:8080/"
        },
        "id": "icCdBUu68-kN",
        "outputId": "847dc1b7-ef3f-450c-9300-424dcdb35c6d"
      },
      "execution_count": 5,
      "outputs": [
        {
          "output_type": "stream",
          "name": "stdout",
          "text": [
            "\r0% [Working]\r            \rHit:1 http://archive.ubuntu.com/ubuntu jammy InRelease\n",
            "\r0% [Waiting for headers] [Connecting to security.ubuntu.com (185.125.190.83)] [Connected to cloud.r-\r                                                                                                    \rGet:2 https://cloud.r-project.org/bin/linux/ubuntu jammy-cran40/ InRelease [3,632 B]\n",
            "\r0% [Waiting for headers] [Connecting to security.ubuntu.com (185.125.190.83)] [2 InRelease 3,632 B/3\r0% [Waiting for headers] [Connecting to security.ubuntu.com (185.125.190.83)] [Waiting for headers] \r                                                                                                    \rHit:3 https://developer.download.nvidia.com/compute/cuda/repos/ubuntu2204/x86_64  InRelease\n",
            "\r0% [Waiting for headers] [Connecting to security.ubuntu.com (185.125.190.83)] [Waiting for headers] \r                                                                                                    \rHit:4 http://archive.ubuntu.com/ubuntu jammy-updates InRelease\n",
            "\r0% [Waiting for headers] [Connecting to security.ubuntu.com (185.125.190.83)] [Waiting for headers] \r                                                                                                    \rHit:5 http://archive.ubuntu.com/ubuntu jammy-backports InRelease\n",
            "\r0% [Waiting for headers] [Waiting for headers] [Connecting to ppa.launchpadcontent.net (185.125.190.\r                                                                                                    \rHit:6 https://r2u.stat.illinois.edu/ubuntu jammy InRelease\n",
            "Hit:7 http://security.ubuntu.com/ubuntu jammy-security InRelease\n",
            "Hit:8 https://ppa.launchpadcontent.net/deadsnakes/ppa/ubuntu jammy InRelease\n",
            "Hit:9 https://ppa.launchpadcontent.net/graphics-drivers/ppa/ubuntu jammy InRelease\n",
            "Hit:10 https://ppa.launchpadcontent.net/ubuntugis/ppa/ubuntu jammy InRelease\n",
            "Fetched 3,632 B in 1s (3,367 B/s)\n",
            "Reading package lists... Done\n",
            "W: Skipping acquire of configured file 'main/source/Sources' as repository 'https://r2u.stat.illinois.edu/ubuntu jammy InRelease' does not seem to provide it (sources.list entry misspelt?)\n",
            "Reading package lists... Done\n",
            "Building dependency tree... Done\n",
            "Reading state information... Done\n",
            "imagemagick is already the newest version (8:6.9.11.60+dfsg-1.3ubuntu0.22.04.5).\n",
            "0 upgraded, 0 newly installed, 0 to remove and 25 not upgraded.\n"
          ]
        }
      ]
    },
    {
      "cell_type": "code",
      "source": [
        "import os\n",
        "import numpy as np\n",
        "import json\n",
        "from moviepy.editor import VideoClip, TextClip, ImageClip, CompositeVideoClip\n",
        "import imageio\n",
        "\n",
        "# Set ImageMagick binary path (if needed - VERY IMPORTANT, especially on Windows)\n",
        "# Windows example (replace with your actual path):\n",
        "# os.environ[\"IMAGEMAGICK_BINARY\"] = r\"C:\\Program Files\\ImageMagick-7.x.x-Q16\\convert.exe\"\n",
        "# Linux/macOS example (adjust if necessary):\n",
        "# os.environ[\"IMAGEMAGICK_BINARY\"] = \"/usr/bin/convert\"\n",
        "\n",
        "# File paths\n",
        "os.makedirs(\"scripts\", exist_ok=True)\n",
        "SCRIPT_PATH = \"scripts/script.json\"\n",
        "LOGO_PATH = \"assets/mlsa_logo.png\"  # Make sure this path is correct\n",
        "OUTPUT_PATH = \"video_output/intro.mp4\"\n",
        "\n",
        "# Create default script.json if it doesn't exist\n",
        "if not os.path.exists(SCRIPT_PATH):\n",
        "    with open(SCRIPT_PATH, \"w\") as file:\n",
        "        json.dump({\"title\": \"Default Title\"}, file)\n",
        "\n",
        "# Load script data\n",
        "with open(SCRIPT_PATH, \"r\") as file:\n",
        "    script_data = json.load(file)\n",
        "\n",
        "title = script_data.get(\"title\", \"Default Title\")\n",
        "\n",
        "# Video settings\n",
        "duration = 5\n",
        "resolution = (1920, 1080)  # Width, Height\n",
        "fps = 24\n",
        "\n",
        "# Create black screen (Corrected make_frame)\n",
        "def make_frame(t):\n",
        "    return np.zeros((resolution[1], resolution[0], 3), dtype=np.uint8)  # Height, then width\n",
        "\n",
        "black_screen = VideoClip(make_frame, duration=duration).set_fps(fps)\n",
        "\n",
        "# Add title text (improved error handling)\n",
        "title_clip = None\n",
        "try:\n",
        "    title_clip = TextClip(title, fontsize=80, color=\"white\", font=\"Arial\")  # Try Arial first\n",
        "except Exception as e1:\n",
        "    print(f\"Error with Arial font: {e1}\")\n",
        "    try:\n",
        "        title_clip = TextClip(title, fontsize=80, color=\"white\")  # Try default font\n",
        "        print(\"Using a default system font for the title.\")\n",
        "    except Exception as e2:\n",
        "        print(f\"Error with default font: {e2}\")\n",
        "\n",
        "if title_clip:  # Check if title_clip was successfully created\n",
        "    title_clip = title_clip.set_position(\"center\").set_duration(duration)\n",
        "else:\n",
        "    print(\"Could not create title clip. Exiting.\")\n",
        "    exit()  # Or handle the error differently\n",
        "\n",
        "\n",
        "# Add MLSA logo (with error handling)\n",
        "logo_clip = None  # Initialize to None\n",
        "try:\n",
        "    logo_clip = ImageClip(LOGO_PATH).set_duration(duration).resize(height=150)\n",
        "    logo_clip = logo_clip.set_position((\"right\", \"top\"))  # Corrected line - added closing parenthesis\n",
        "except Exception as logo_error:\n",
        "    print(f\"Error loading logo: {logo_error}\")\n",
        "\n",
        "# Combine elements (only if the logo was loaded successfully)\n",
        "if logo_clip:\n",
        "    final_clip = CompositeVideoClip([black_screen, title_clip, logo_clip])\n",
        "else:\n",
        "    final_clip = CompositeVideoClip([black_screen, title_clip])  # If logo fails, still create video\n",
        "\n",
        "\n",
        "# Ensure output directory exists\n",
        "os.makedirs(os.path.dirname(OUTPUT_PATH), exist_ok=True)\n",
        "\n",
        "# Export the video with error handling\n",
        "try:\n",
        "    final_clip.write_videofile(OUTPUT_PATH, fps=fps)\n",
        "    print(f\"Video created successfully at {OUTPUT_PATH}\")\n",
        "except Exception as e:\n",
        "    print(f\"Error creating video: {e}\")"
      ],
      "metadata": {
        "colab": {
          "base_uri": "https://localhost:8080/",
          "height": 688
        },
        "id": "Rfw5FChe93ZC",
        "outputId": "0a251968-dc0e-47e7-89f3-7586f88b2cd5"
      },
      "execution_count": 2,
      "outputs": [
        {
          "output_type": "stream",
          "name": "stdout",
          "text": [
            "Error with Arial font: MoviePy Error: creation of None failed because of the following error:\n",
            "\n",
            "convert-im6.q16: attempt to perform an operation not allowed by the security policy `@/tmp/tmp9q_13h7w.txt' @ error/property.c/InterpretImageProperties/3706.\n",
            "convert-im6.q16: no images defined `PNG32:/tmp/tmppehvpjtl.png' @ error/convert.c/ConvertImageCommand/3229.\n",
            ".\n",
            "\n",
            ".This error can be due to the fact that ImageMagick is not installed on your computer, or (for Windows users) that you didn't specify the path to the ImageMagick binary in file conf.py, or that the path you specified is incorrect\n",
            "Error with default font: MoviePy Error: creation of None failed because of the following error:\n",
            "\n",
            "convert-im6.q16: attempt to perform an operation not allowed by the security policy `@/tmp/tmp587us9hp.txt' @ error/property.c/InterpretImageProperties/3706.\n",
            "convert-im6.q16: no images defined `PNG32:/tmp/tmp1nspa5v5.png' @ error/convert.c/ConvertImageCommand/3229.\n",
            ".\n",
            "\n",
            ".This error can be due to the fact that ImageMagick is not installed on your computer, or (for Windows users) that you didn't specify the path to the ImageMagick binary in file conf.py, or that the path you specified is incorrect\n",
            "Could not create title clip. Exiting.\n",
            "Error loading logo: No such file: '/content/assets/mlsa_logo.png'\n"
          ]
        },
        {
          "output_type": "error",
          "ename": "AttributeError",
          "evalue": "'NoneType' object has no attribute 'end'",
          "traceback": [
            "\u001b[0;31m---------------------------------------------------------------------------\u001b[0m",
            "\u001b[0;31mAttributeError\u001b[0m                            Traceback (most recent call last)",
            "\u001b[0;32m<ipython-input-2-a07e1b17f4bf>\u001b[0m in \u001b[0;36m<cell line: 0>\u001b[0;34m()\u001b[0m\n\u001b[1;32m     70\u001b[0m     \u001b[0mfinal_clip\u001b[0m \u001b[0;34m=\u001b[0m \u001b[0mCompositeVideoClip\u001b[0m\u001b[0;34m(\u001b[0m\u001b[0;34m[\u001b[0m\u001b[0mblack_screen\u001b[0m\u001b[0;34m,\u001b[0m \u001b[0mtitle_clip\u001b[0m\u001b[0;34m,\u001b[0m \u001b[0mlogo_clip\u001b[0m\u001b[0;34m]\u001b[0m\u001b[0;34m)\u001b[0m\u001b[0;34m\u001b[0m\u001b[0;34m\u001b[0m\u001b[0m\n\u001b[1;32m     71\u001b[0m \u001b[0;32melse\u001b[0m\u001b[0;34m:\u001b[0m\u001b[0;34m\u001b[0m\u001b[0;34m\u001b[0m\u001b[0m\n\u001b[0;32m---> 72\u001b[0;31m     \u001b[0mfinal_clip\u001b[0m \u001b[0;34m=\u001b[0m \u001b[0mCompositeVideoClip\u001b[0m\u001b[0;34m(\u001b[0m\u001b[0;34m[\u001b[0m\u001b[0mblack_screen\u001b[0m\u001b[0;34m,\u001b[0m \u001b[0mtitle_clip\u001b[0m\u001b[0;34m]\u001b[0m\u001b[0;34m)\u001b[0m  \u001b[0;31m# If logo fails, still create video\u001b[0m\u001b[0;34m\u001b[0m\u001b[0;34m\u001b[0m\u001b[0m\n\u001b[0m\u001b[1;32m     73\u001b[0m \u001b[0;34m\u001b[0m\u001b[0m\n\u001b[1;32m     74\u001b[0m \u001b[0;34m\u001b[0m\u001b[0m\n",
            "\u001b[0;32m/usr/local/lib/python3.11/dist-packages/moviepy/video/compositing/CompositeVideoClip.py\u001b[0m in \u001b[0;36m__init__\u001b[0;34m(self, clips, size, bg_color, use_bgclip, ismask)\u001b[0m\n\u001b[1;32m     82\u001b[0m \u001b[0;34m\u001b[0m\u001b[0m\n\u001b[1;32m     83\u001b[0m         \u001b[0;31m# compute duration\u001b[0m\u001b[0;34m\u001b[0m\u001b[0;34m\u001b[0m\u001b[0m\n\u001b[0;32m---> 84\u001b[0;31m         \u001b[0mends\u001b[0m \u001b[0;34m=\u001b[0m \u001b[0;34m[\u001b[0m\u001b[0mc\u001b[0m\u001b[0;34m.\u001b[0m\u001b[0mend\u001b[0m \u001b[0;32mfor\u001b[0m \u001b[0mc\u001b[0m \u001b[0;32min\u001b[0m \u001b[0mself\u001b[0m\u001b[0;34m.\u001b[0m\u001b[0mclips\u001b[0m\u001b[0;34m]\u001b[0m\u001b[0;34m\u001b[0m\u001b[0;34m\u001b[0m\u001b[0m\n\u001b[0m\u001b[1;32m     85\u001b[0m         \u001b[0;32mif\u001b[0m \u001b[0;32mNone\u001b[0m \u001b[0;32mnot\u001b[0m \u001b[0;32min\u001b[0m \u001b[0mends\u001b[0m\u001b[0;34m:\u001b[0m\u001b[0;34m\u001b[0m\u001b[0;34m\u001b[0m\u001b[0m\n\u001b[1;32m     86\u001b[0m             \u001b[0mduration\u001b[0m \u001b[0;34m=\u001b[0m \u001b[0mmax\u001b[0m\u001b[0;34m(\u001b[0m\u001b[0mends\u001b[0m\u001b[0;34m)\u001b[0m\u001b[0;34m\u001b[0m\u001b[0;34m\u001b[0m\u001b[0m\n",
            "\u001b[0;32m/usr/local/lib/python3.11/dist-packages/moviepy/video/compositing/CompositeVideoClip.py\u001b[0m in \u001b[0;36m<listcomp>\u001b[0;34m(.0)\u001b[0m\n\u001b[1;32m     82\u001b[0m \u001b[0;34m\u001b[0m\u001b[0m\n\u001b[1;32m     83\u001b[0m         \u001b[0;31m# compute duration\u001b[0m\u001b[0;34m\u001b[0m\u001b[0;34m\u001b[0m\u001b[0m\n\u001b[0;32m---> 84\u001b[0;31m         \u001b[0mends\u001b[0m \u001b[0;34m=\u001b[0m \u001b[0;34m[\u001b[0m\u001b[0mc\u001b[0m\u001b[0;34m.\u001b[0m\u001b[0mend\u001b[0m \u001b[0;32mfor\u001b[0m \u001b[0mc\u001b[0m \u001b[0;32min\u001b[0m \u001b[0mself\u001b[0m\u001b[0;34m.\u001b[0m\u001b[0mclips\u001b[0m\u001b[0;34m]\u001b[0m\u001b[0;34m\u001b[0m\u001b[0;34m\u001b[0m\u001b[0m\n\u001b[0m\u001b[1;32m     85\u001b[0m         \u001b[0;32mif\u001b[0m \u001b[0;32mNone\u001b[0m \u001b[0;32mnot\u001b[0m \u001b[0;32min\u001b[0m \u001b[0mends\u001b[0m\u001b[0;34m:\u001b[0m\u001b[0;34m\u001b[0m\u001b[0;34m\u001b[0m\u001b[0m\n\u001b[1;32m     86\u001b[0m             \u001b[0mduration\u001b[0m \u001b[0;34m=\u001b[0m \u001b[0mmax\u001b[0m\u001b[0;34m(\u001b[0m\u001b[0mends\u001b[0m\u001b[0;34m)\u001b[0m\u001b[0;34m\u001b[0m\u001b[0;34m\u001b[0m\u001b[0m\n",
            "\u001b[0;31mAttributeError\u001b[0m: 'NoneType' object has no attribute 'end'"
          ]
        }
      ]
    },
    {
      "cell_type": "code",
      "source": [
        "def make_frame(t):\n",
        "    return np.zeros((resolution[1], resolution[0], 3), dtype=np.uint8)  # Height, then width"
      ],
      "metadata": {
        "id": "9exJ9Nw39loo"
      },
      "execution_count": 4,
      "outputs": []
    }
  ]
}